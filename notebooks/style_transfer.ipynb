{
 "cells": [
  {
   "cell_type": "markdown",
   "id": "6cb78f4b",
   "metadata": {},
   "source": [
    "# Installation"
   ]
  },
  {
   "cell_type": "code",
   "execution_count": null,
   "id": "013dea41",
   "metadata": {},
   "outputs": [],
   "source": [
    "import os\n",
    "import time\n",
    "import functools\n",
    "\n",
    "import PIL.Image\n",
    "import tensorflow as tf\n",
    "import tensorflow_datasets as tfds\n",
    "import matplotlib.pyplot as plt\n",
    "import numpy as np\n",
    "import IPython.display as display"
   ]
  },
  {
   "cell_type": "markdown",
   "id": "4fc155ab",
   "metadata": {},
   "source": [
    "# Custom Dataset"
   ]
  },
  {
   "cell_type": "code",
   "execution_count": null,
   "id": "52789d5a",
   "metadata": {},
   "outputs": [],
   "source": [
    "people = tfds.load(\"people\")[\"train\"].take(500)\n",
    "clouds = tfds.load(\"clouds\")[\"train\"].take(500)"
   ]
  },
  {
   "cell_type": "markdown",
   "id": "30b6af72",
   "metadata": {},
   "source": [
    "# Constants"
   ]
  },
  {
   "cell_type": "code",
   "execution_count": null,
   "id": "dba46187",
   "metadata": {},
   "outputs": [],
   "source": [
    "def tensor_to_image(tensor):\n",
    "    tensor = tensor * 255\n",
    "    tensor = np.array(tensor, dtype=np.uint8)\n",
    "    if np.ndim(tensor) > 3:\n",
    "        assert tensor.shape[0] == 1\n",
    "        tensor = tensor[0]\n",
    "    return PIL.Image.fromarray(tensor)"
   ]
  },
  {
   "cell_type": "code",
   "execution_count": null,
   "id": "9131300c",
   "metadata": {},
   "outputs": [],
   "source": [
    "def preprocess_image(image):\n",
    "    image = image[\"image\"]\n",
    "    image = tf.image.convert_image_dtype(image, tf.float32)\n",
    "    image = image[tf.newaxis, :]\n",
    "    return image"
   ]
  },
  {
   "cell_type": "code",
   "execution_count": null,
   "id": "31bf7f23",
   "metadata": {},
   "outputs": [],
   "source": [
    "def imshow(image, title=None):\n",
    "    if len(image.shape) > 3:\n",
    "        image = tf.squeeze(image, axis=0)\n",
    "    plt.imshow(image)\n",
    "    if title:\n",
    "        plt.title(title)"
   ]
  },
  {
   "cell_type": "code",
   "execution_count": null,
   "id": "34664ff5",
   "metadata": {},
   "outputs": [],
   "source": [
    "people = people.map(preprocess_image)\n",
    "clouds = clouds.map(preprocess_image)"
   ]
  },
  {
   "cell_type": "code",
   "execution_count": null,
   "id": "0696a7eb",
   "metadata": {},
   "outputs": [],
   "source": [
    "content_image = next(iter(people))\n",
    "style_image = next(iter(clouds))"
   ]
  },
  {
   "cell_type": "code",
   "execution_count": null,
   "id": "c35fc5a0",
   "metadata": {},
   "outputs": [],
   "source": [
    "plt.subplot(1, 2, 1)\n",
    "imshow(content_image, \"Content Image\")\n",
    "plt.subplot(1, 2, 2)\n",
    "imshow(style_image, \"Style Image\")"
   ]
  },
  {
   "cell_type": "markdown",
   "id": "ee4fab30",
   "metadata": {},
   "source": [
    "# Model Setup"
   ]
  },
  {
   "cell_type": "code",
   "execution_count": null,
   "id": "9e1af5d4",
   "metadata": {},
   "outputs": [],
   "source": [
    "x = tf.keras.applications.vgg19.preprocess_input(content_image * 255)\n",
    "x = tf.image.resize(x, (224, 224))\n",
    "vgg = tf.keras.applications.VGG19(include_top=True, weights=\"imagenet\")\n",
    "prediction_probabilities = vgg(x)\n",
    "prediction_probabilities.shape"
   ]
  },
  {
   "cell_type": "code",
   "execution_count": null,
   "id": "f8ce106f",
   "metadata": {},
   "outputs": [],
   "source": [
    "predicted_top_5 = tf.keras.applications.vgg19.decode_predictions(prediction_probabilities.numpy())[0]\n",
    "[(class_name, prob) for (number, class_name, prob) in predicted_top_5]"
   ]
  },
  {
   "cell_type": "code",
   "execution_count": null,
   "id": "3bbb871b",
   "metadata": {},
   "outputs": [],
   "source": [
    "vgg = tf.keras.applications.VGG19(include_top=False, weights=\"imagenet\")\n",
    "for layer in vgg.layers:\n",
    "    print(layer.name)"
   ]
  },
  {
   "cell_type": "code",
   "execution_count": null,
   "id": "85e6fca4",
   "metadata": {},
   "outputs": [],
   "source": [
    "content_layers = [\"block5_conv2\"] \n",
    "style_layers = [\"block1_conv1\",\n",
    "                \"block2_conv1\",\n",
    "                \"block3_conv1\", \n",
    "                \"block4_conv1\", \n",
    "                \"block5_conv1\"]"
   ]
  },
  {
   "cell_type": "code",
   "execution_count": null,
   "id": "9f14f93d",
   "metadata": {},
   "outputs": [],
   "source": [
    "num_content_layers = len(content_layers)\n",
    "num_style_layers = len(style_layers)"
   ]
  },
  {
   "cell_type": "markdown",
   "id": "0368a64d",
   "metadata": {},
   "source": [
    "# Build Model"
   ]
  },
  {
   "cell_type": "code",
   "execution_count": null,
   "id": "4017a8a3",
   "metadata": {},
   "outputs": [],
   "source": [
    "def vgg_layers(layer_names):\n",
    "    vgg = tf.keras.applications.VGG19(include_top=False, weights=\"imagenet\")\n",
    "    vgg.trainable = False\n",
    "    outputs = [vgg.get_layer(name).output for name in layer_names]\n",
    "    model = tf.keras.Model([vgg.input], outputs)\n",
    "    return model"
   ]
  },
  {
   "cell_type": "code",
   "execution_count": null,
   "id": "2e63a245",
   "metadata": {},
   "outputs": [],
   "source": [
    "style_extractor = vgg_layers(style_layers)\n",
    "style_outputs = style_extractor(style_image * 255)"
   ]
  },
  {
   "cell_type": "markdown",
   "id": "6199735e",
   "metadata": {},
   "source": [
    "## Calculate Style"
   ]
  },
  {
   "cell_type": "code",
   "execution_count": null,
   "id": "f07fdf9f",
   "metadata": {},
   "outputs": [],
   "source": [
    "def gram_matrix(input_tensor):\n",
    "    result = tf.linalg.einsum(\"bijc,bijd->bcd\", input_tensor, input_tensor)\n",
    "    input_shape = tf.shape(input_tensor)\n",
    "    num_locations = tf.cast(input_shape[1] * input_shape[2], tf.float32)\n",
    "    return result / num_locations"
   ]
  },
  {
   "cell_type": "markdown",
   "id": "c855c47a",
   "metadata": {},
   "source": [
    "## Extract Style"
   ]
  },
  {
   "cell_type": "code",
   "execution_count": null,
   "id": "35526f0d",
   "metadata": {},
   "outputs": [],
   "source": [
    "class StyleContentModel(tf.keras.models.Model):\n",
    "    def __init__(self, style_layers, content_layers):\n",
    "        super(StyleContentModel, self).__init__()\n",
    "        self.vgg = vgg_layers(style_layers + content_layers)\n",
    "        self.style_layers = style_layers\n",
    "        self.content_layers = content_layers\n",
    "        self.num_style_layers = len(style_layers)\n",
    "        self.vgg.trainable = False\n",
    "    \n",
    "    def call(self, inputs):\n",
    "        \"Expects float input in [0,1]\"\n",
    "        inputs = inputs*255.0\n",
    "        preprocessed_input = tf.keras.applications.vgg19.preprocess_input(inputs)\n",
    "        outputs = self.vgg(preprocessed_input)\n",
    "        style_outputs, content_outputs = (outputs[:self.num_style_layers], outputs[self.num_style_layers:])\n",
    "        style_outputs = [gram_matrix(style_output) for style_output in style_outputs]\n",
    "        content_dict = {content_name: value for content_name, value in zip(self.content_layers, content_outputs)}\n",
    "        style_dict = {style_name: value for style_name, value in zip(self.style_layers, style_outputs)}\n",
    "        return {\"content\": content_dict, \"style\": style_dict}"
   ]
  },
  {
   "cell_type": "code",
   "execution_count": null,
   "id": "c6633759",
   "metadata": {},
   "outputs": [],
   "source": [
    "extractor = StyleContentModel(style_layers, content_layers)\n",
    "results = extractor(tf.constant(content_image))"
   ]
  },
  {
   "cell_type": "markdown",
   "id": "fc6060e7",
   "metadata": {},
   "source": [
    "## Run Gradient Descent"
   ]
  },
  {
   "cell_type": "code",
   "execution_count": null,
   "id": "383aac1e",
   "metadata": {},
   "outputs": [],
   "source": [
    "style_targets = extractor(style_image)[\"style\"]\n",
    "content_targets = extractor(content_image)[\"content\"]"
   ]
  },
  {
   "cell_type": "code",
   "execution_count": null,
   "id": "3972397c",
   "metadata": {},
   "outputs": [],
   "source": [
    "image = tf.Variable(content_image)"
   ]
  },
  {
   "cell_type": "code",
   "execution_count": null,
   "id": "08edd2a4",
   "metadata": {},
   "outputs": [],
   "source": [
    "def clip_0_1(image):\n",
    "    return tf.clip_by_value(image, clip_value_min=0.0, clip_value_max=1.0)"
   ]
  },
  {
   "cell_type": "code",
   "execution_count": null,
   "id": "252910d9",
   "metadata": {},
   "outputs": [],
   "source": [
    "opt = tf.optimizers.Adam(learning_rate=0.02, beta_1=0.99, epsilon=1e-1)"
   ]
  },
  {
   "cell_type": "code",
   "execution_count": null,
   "id": "d4e8924c",
   "metadata": {},
   "outputs": [],
   "source": [
    "style_weight = 1e-2\n",
    "content_weight = 1e4"
   ]
  },
  {
   "cell_type": "code",
   "execution_count": null,
   "id": "5a18b15c",
   "metadata": {},
   "outputs": [],
   "source": [
    "def style_content_loss(outputs):\n",
    "    style_outputs = outputs[\"style\"]\n",
    "    content_outputs = outputs[\"content\"]\n",
    "    style_loss = tf.add_n([tf.reduce_mean((style_outputs[name]-style_targets[name])**2) \n",
    "                           for name in style_outputs.keys()])\n",
    "    style_loss *= style_weight / num_style_layers\n",
    "    content_loss = tf.add_n([tf.reduce_mean((content_outputs[name]-content_targets[name])**2) \n",
    "                             for name in content_outputs.keys()])\n",
    "    content_loss *= content_weight / num_content_layers\n",
    "    loss = style_loss + content_loss\n",
    "    return loss"
   ]
  },
  {
   "cell_type": "code",
   "execution_count": null,
   "id": "6ea9b2fe",
   "metadata": {},
   "outputs": [],
   "source": [
    "@tf.function\n",
    "def train_step(image):\n",
    "    with tf.GradientTape() as tape:\n",
    "        outputs = extractor(image)\n",
    "        loss = style_content_loss(outputs)\n",
    "    grad = tape.gradient(loss, image)\n",
    "    opt.apply_gradients([(grad, image)])\n",
    "    image.assign(clip_0_1(image))"
   ]
  },
  {
   "cell_type": "markdown",
   "id": "ff3aaaf1",
   "metadata": {},
   "source": [
    "## Test Training Step"
   ]
  },
  {
   "cell_type": "code",
   "execution_count": null,
   "id": "6a1f4780",
   "metadata": {},
   "outputs": [],
   "source": [
    "train_step(image)\n",
    "train_step(image)\n",
    "train_step(image)\n",
    "tensor_to_image(image)"
   ]
  },
  {
   "cell_type": "markdown",
   "id": "99f1ce2c",
   "metadata": {},
   "source": [
    "## Setup Longer Optimization"
   ]
  },
  {
   "cell_type": "code",
   "execution_count": null,
   "id": "d9c20eb6",
   "metadata": {},
   "outputs": [],
   "source": [
    "start = time.time()\n",
    "epochs = 10\n",
    "steps_per_epoch = 100\n",
    "\n",
    "step = 0\n",
    "for n in range(epochs):\n",
    "    for m in range(steps_per_epoch):\n",
    "        step += 1\n",
    "        train_step(image)\n",
    "        print(\".\", end=\"\", flush=True)\n",
    "    display.clear_output(wait=True)\n",
    "    display.display(tensor_to_image(image))\n",
    "    print(\"Train Step: {}\".format(step))\n",
    "\n",
    "end = time.time()\n",
    "print(\"Total Time: {:.1f}\".format(end - start))"
   ]
  },
  {
   "cell_type": "markdown",
   "id": "c7b374a9",
   "metadata": {},
   "source": [
    "## Total Variational Loss"
   ]
  },
  {
   "cell_type": "code",
   "execution_count": null,
   "id": "853bb135",
   "metadata": {},
   "outputs": [],
   "source": [
    "def high_pass_x_y(image):\n",
    "    x_var = image[:, :, 1:, :] - image[:, :, :-1, :]\n",
    "    y_var = image[:, 1:, :, :] - image[:, :-1, :, :]\n",
    "    return x_var, y_var"
   ]
  },
  {
   "cell_type": "code",
   "execution_count": null,
   "id": "21115ac6",
   "metadata": {},
   "outputs": [],
   "source": [
    "x_deltas, y_deltas = high_pass_x_y(content_image)\n",
    "\n",
    "plt.figure(figsize=(14, 10))\n",
    "plt.subplot(2, 2, 1)\n",
    "imshow(clip_0_1(2*y_deltas+0.5), \"Horizontal Deltas: Original\")\n",
    "\n",
    "plt.subplot(2, 2, 2)\n",
    "imshow(clip_0_1(2*x_deltas+0.5), \"Vertical Deltas: Original\")\n",
    "\n",
    "x_deltas, y_deltas = high_pass_x_y(image)\n",
    "\n",
    "plt.subplot(2, 2, 3)\n",
    "imshow(clip_0_1(2*y_deltas+0.5), \"Horizontal Deltas: Styled\")\n",
    "\n",
    "plt.subplot(2, 2, 4)\n",
    "imshow(clip_0_1(2*x_deltas+0.5), \"Vertical Deltas: Styled\")"
   ]
  }
 ],
 "metadata": {
  "kernelspec": {
   "display_name": "Python 3 (ipykernel)",
   "language": "python",
   "name": "python3"
  },
  "language_info": {
   "codemirror_mode": {
    "name": "ipython",
    "version": 3
   },
   "file_extension": ".py",
   "mimetype": "text/x-python",
   "name": "python",
   "nbconvert_exporter": "python",
   "pygments_lexer": "ipython3",
   "version": "3.8.12"
  }
 },
 "nbformat": 4,
 "nbformat_minor": 5
}
